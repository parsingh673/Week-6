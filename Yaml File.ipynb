{
 "cells": [
  {
   "cell_type": "code",
   "execution_count": 1,
   "id": "22c082aa",
   "metadata": {},
   "outputs": [
    {
     "name": "stdout",
     "output_type": "stream",
     "text": [
      "Requirement already satisfied: pyyaml in /Users/parwindersingh/anaconda3/lib/python3.10/site-packages (6.0)\n",
      "Note: you may need to restart the kernel to use updated packages.\n"
     ]
    }
   ],
   "source": [
    "pip install pyyaml"
   ]
  },
  {
   "cell_type": "code",
   "execution_count": 2,
   "id": "04b20464",
   "metadata": {},
   "outputs": [],
   "source": [
    "import yaml\n",
    "import pandas as pd\n",
    "from pydantic import BaseModel, ValidationError"
   ]
  },
  {
   "cell_type": "code",
   "execution_count": 3,
   "id": "80f35ae3",
   "metadata": {},
   "outputs": [],
   "source": [
    "# Created a dataframe for CSV file\n",
    "data = pd.read_csv('ibeta_info.csv')"
   ]
  },
  {
   "cell_type": "code",
   "execution_count": 4,
   "id": "c8356cc5",
   "metadata": {},
   "outputs": [
    {
     "data": {
      "text/html": [
       "<div>\n",
       "<style scoped>\n",
       "    .dataframe tbody tr th:only-of-type {\n",
       "        vertical-align: middle;\n",
       "    }\n",
       "\n",
       "    .dataframe tbody tr th {\n",
       "        vertical-align: top;\n",
       "    }\n",
       "\n",
       "    .dataframe thead th {\n",
       "        text-align: right;\n",
       "    }\n",
       "</style>\n",
       "<table border=\"1\" class=\"dataframe\">\n",
       "  <thead>\n",
       "    <tr style=\"text-align: right;\">\n",
       "      <th></th>\n",
       "      <th>attack_type;description</th>\n",
       "    </tr>\n",
       "  </thead>\n",
       "  <tbody>\n",
       "    <tr>\n",
       "      <th>0</th>\n",
       "      <td>mask;printed portraits of people with cut-out ...</td>\n",
       "    </tr>\n",
       "    <tr>\n",
       "      <th>1</th>\n",
       "      <td>mask3d;portraits consisting of several connect...</td>\n",
       "    </tr>\n",
       "    <tr>\n",
       "      <th>2</th>\n",
       "      <td>monitor;demonstrations of a person's photo on ...</td>\n",
       "    </tr>\n",
       "    <tr>\n",
       "      <th>3</th>\n",
       "      <td>outline;printed outlines of people's photos</td>\n",
       "    </tr>\n",
       "    <tr>\n",
       "      <th>4</th>\n",
       "      <td>outline3d;printed portraits of people attached...</td>\n",
       "    </tr>\n",
       "  </tbody>\n",
       "</table>\n",
       "</div>"
      ],
      "text/plain": [
       "                             attack_type;description\n",
       "0  mask;printed portraits of people with cut-out ...\n",
       "1  mask3d;portraits consisting of several connect...\n",
       "2  monitor;demonstrations of a person's photo on ...\n",
       "3        outline;printed outlines of people's photos\n",
       "4  outline3d;printed portraits of people attached..."
      ]
     },
     "execution_count": 4,
     "metadata": {},
     "output_type": "execute_result"
    }
   ],
   "source": [
    "data.head()"
   ]
  },
  {
   "cell_type": "code",
   "execution_count": 5,
   "id": "38a05595",
   "metadata": {},
   "outputs": [
    {
     "name": "stdout",
     "output_type": "stream",
     "text": [
      "Index(['attack_type;description'], dtype='object')\n"
     ]
    }
   ],
   "source": [
    "# Checked column names and type\n",
    "print(data.columns)"
   ]
  },
  {
   "cell_type": "code",
   "execution_count": 7,
   "id": "cce7afb3",
   "metadata": {},
   "outputs": [
    {
     "name": "stdout",
     "output_type": "stream",
     "text": [
      "attack_type;description    0\n",
      "dtype: int64\n"
     ]
    }
   ],
   "source": [
    "# Checked for missing values in each column\n",
    "missing_values = data.isnull().sum()\n",
    "print(missing_values)"
   ]
  },
  {
   "cell_type": "code",
   "execution_count": 10,
   "id": "5d5dc3f7",
   "metadata": {},
   "outputs": [],
   "source": [
    "# Splited the column names using the semicolon ';'\n",
    "split_column_names = data.columns.str.split(';')"
   ]
  },
  {
   "cell_type": "code",
   "execution_count": 12,
   "id": "93c68620",
   "metadata": {},
   "outputs": [],
   "source": [
    "# Got the individual column names as a list\n",
    "individual_column_names = [column[0] for column in split_column_names]"
   ]
  },
  {
   "cell_type": "code",
   "execution_count": 13,
   "id": "1be23a96",
   "metadata": {},
   "outputs": [
    {
     "name": "stdout",
     "output_type": "stream",
     "text": [
      "['attack_type']\n"
     ]
    }
   ],
   "source": [
    "print(individual_column_names)"
   ]
  },
  {
   "cell_type": "code",
   "execution_count": 15,
   "id": "b019a7a2",
   "metadata": {},
   "outputs": [],
   "source": [
    "# Generated a dictionary containing column names and their corresponding validation results\n",
    "validation_results = {column: missing_values[column] for column in data.columns}"
   ]
  },
  {
   "cell_type": "code",
   "execution_count": 16,
   "id": "f7f60e7a",
   "metadata": {},
   "outputs": [],
   "source": [
    "# Converted the dictionary to a YAML string\n",
    "yaml_string = yaml.dump(validation_results)"
   ]
  },
  {
   "cell_type": "code",
   "execution_count": 17,
   "id": "db1f0e55",
   "metadata": {},
   "outputs": [],
   "source": [
    "# Wrote the YAML string to a YAML file\n",
    "with open(\"validation_results.yaml\", \"w\") as f:\n",
    "    f.write(yaml_string)"
   ]
  }
 ],
 "metadata": {
  "kernelspec": {
   "display_name": "Python 3 (ipykernel)",
   "language": "python",
   "name": "python3"
  },
  "language_info": {
   "codemirror_mode": {
    "name": "ipython",
    "version": 3
   },
   "file_extension": ".py",
   "mimetype": "text/x-python",
   "name": "python",
   "nbconvert_exporter": "python",
   "pygments_lexer": "ipython3",
   "version": "3.10.9"
  }
 },
 "nbformat": 4,
 "nbformat_minor": 5
}
